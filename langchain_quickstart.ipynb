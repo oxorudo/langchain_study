{
  "cells": [
    {
      "cell_type": "markdown",
      "metadata": {
        "colab_type": "text",
        "id": "view-in-github"
      },
      "source": [
        "<a href=\"https://colab.research.google.com/github/oxorudo/langchain_study/blob/main/langchain_quickstart.ipynb\" target=\"_parent\"><img src=\"https://colab.research.google.com/assets/colab-badge.svg\" alt=\"Open In Colab\"/></a>"
      ]
    },
    {
      "cell_type": "markdown",
      "metadata": {
        "id": "pJ6i2qcdZ0Ow"
      },
      "source": [
        "# LangChain Quickstart 기초예제\n",
        "## 작성자 : AISchool ( http://aischool.ai/%ec%98%a8%eb%9d%bc%ec%9d%b8-%ea%b0%95%ec%9d%98-%ec%b9%b4%ed%85%8c%ea%b3%a0%eb%a6%ac/ )\n",
        "## Reference : https://python.langchain.com/docs/get_started/quickstart"
      ]
    },
    {
      "cell_type": "markdown",
      "metadata": {
        "id": "4hniXcElvMif"
      },
      "source": [
        "# LangChain 라이브러리 설치"
      ]
    },
    {
      "cell_type": "code",
      "execution_count": 2,
      "metadata": {
        "colab": {
          "base_uri": "https://localhost:8080/"
        },
        "id": "FSTi00anFGqf",
        "outputId": "5c4feeb6-aa43-4dc2-cc53-b4cbd8a1c61d"
      },
      "outputs": [
        {
          "name": "stdout",
          "output_type": "stream",
          "text": [
            "Requirement already satisfied: langchain_community in d:\\anaconda\\envs\\langchain\\lib\\site-packages (0.2.19)\n",
            "Requirement already satisfied: PyYAML>=5.3 in d:\\anaconda\\envs\\langchain\\lib\\site-packages (from langchain_community) (6.0.2)\n",
            "Requirement already satisfied: SQLAlchemy<3,>=1.4 in d:\\anaconda\\envs\\langchain\\lib\\site-packages (from langchain_community) (2.0.38)\n",
            "Requirement already satisfied: aiohttp<4.0.0,>=3.8.3 in d:\\anaconda\\envs\\langchain\\lib\\site-packages (from langchain_community) (3.10.11)\n",
            "Requirement already satisfied: dataclasses-json<0.7,>=0.5.7 in d:\\anaconda\\envs\\langchain\\lib\\site-packages (from langchain_community) (0.6.7)\n",
            "Requirement already satisfied: langchain<0.3.0,>=0.2.17 in d:\\anaconda\\envs\\langchain\\lib\\site-packages (from langchain_community) (0.2.17)\n",
            "Requirement already satisfied: langchain-core<0.3.0,>=0.2.43 in d:\\anaconda\\envs\\langchain\\lib\\site-packages (from langchain_community) (0.2.43)\n",
            "Requirement already satisfied: langsmith<0.2.0,>=0.1.112 in d:\\anaconda\\envs\\langchain\\lib\\site-packages (from langchain_community) (0.1.147)\n",
            "Requirement already satisfied: numpy<2,>=1 in d:\\anaconda\\envs\\langchain\\lib\\site-packages (from langchain_community) (1.24.4)\n",
            "Requirement already satisfied: requests<3,>=2 in d:\\anaconda\\envs\\langchain\\lib\\site-packages (from langchain_community) (2.32.3)\n",
            "Requirement already satisfied: tenacity!=8.4.0,<9.0.0,>=8.1.0 in d:\\anaconda\\envs\\langchain\\lib\\site-packages (from langchain_community) (8.5.0)\n",
            "Requirement already satisfied: aiohappyeyeballs>=2.3.0 in d:\\anaconda\\envs\\langchain\\lib\\site-packages (from aiohttp<4.0.0,>=3.8.3->langchain_community) (2.4.4)\n",
            "Requirement already satisfied: aiosignal>=1.1.2 in d:\\anaconda\\envs\\langchain\\lib\\site-packages (from aiohttp<4.0.0,>=3.8.3->langchain_community) (1.3.1)\n",
            "Requirement already satisfied: attrs>=17.3.0 in d:\\anaconda\\envs\\langchain\\lib\\site-packages (from aiohttp<4.0.0,>=3.8.3->langchain_community) (25.1.0)\n",
            "Requirement already satisfied: frozenlist>=1.1.1 in d:\\anaconda\\envs\\langchain\\lib\\site-packages (from aiohttp<4.0.0,>=3.8.3->langchain_community) (1.5.0)\n",
            "Requirement already satisfied: multidict<7.0,>=4.5 in d:\\anaconda\\envs\\langchain\\lib\\site-packages (from aiohttp<4.0.0,>=3.8.3->langchain_community) (6.1.0)\n",
            "Requirement already satisfied: yarl<2.0,>=1.12.0 in d:\\anaconda\\envs\\langchain\\lib\\site-packages (from aiohttp<4.0.0,>=3.8.3->langchain_community) (1.15.2)\n",
            "Requirement already satisfied: async-timeout<6.0,>=4.0 in d:\\anaconda\\envs\\langchain\\lib\\site-packages (from aiohttp<4.0.0,>=3.8.3->langchain_community) (4.0.3)\n",
            "Requirement already satisfied: marshmallow<4.0.0,>=3.18.0 in d:\\anaconda\\envs\\langchain\\lib\\site-packages (from dataclasses-json<0.7,>=0.5.7->langchain_community) (3.22.0)\n",
            "Requirement already satisfied: typing-inspect<1,>=0.4.0 in d:\\anaconda\\envs\\langchain\\lib\\site-packages (from dataclasses-json<0.7,>=0.5.7->langchain_community) (0.9.0)\n",
            "Requirement already satisfied: langchain-text-splitters<0.3.0,>=0.2.0 in d:\\anaconda\\envs\\langchain\\lib\\site-packages (from langchain<0.3.0,>=0.2.17->langchain_community) (0.2.4)\n",
            "Requirement already satisfied: pydantic<3,>=1 in d:\\anaconda\\envs\\langchain\\lib\\site-packages (from langchain<0.3.0,>=0.2.17->langchain_community) (2.10.6)\n",
            "Requirement already satisfied: jsonpatch<2.0,>=1.33 in d:\\anaconda\\envs\\langchain\\lib\\site-packages (from langchain-core<0.3.0,>=0.2.43->langchain_community) (1.33)\n",
            "Requirement already satisfied: packaging<25,>=23.2 in d:\\anaconda\\envs\\langchain\\lib\\site-packages (from langchain-core<0.3.0,>=0.2.43->langchain_community) (24.2)\n",
            "Requirement already satisfied: typing-extensions>=4.7 in d:\\anaconda\\envs\\langchain\\lib\\site-packages (from langchain-core<0.3.0,>=0.2.43->langchain_community) (4.12.2)\n",
            "Requirement already satisfied: httpx<1,>=0.23.0 in d:\\anaconda\\envs\\langchain\\lib\\site-packages (from langsmith<0.2.0,>=0.1.112->langchain_community) (0.28.1)\n",
            "Requirement already satisfied: orjson<4.0.0,>=3.9.14 in d:\\anaconda\\envs\\langchain\\lib\\site-packages (from langsmith<0.2.0,>=0.1.112->langchain_community) (3.10.15)\n",
            "Requirement already satisfied: requests-toolbelt<2.0.0,>=1.0.0 in d:\\anaconda\\envs\\langchain\\lib\\site-packages (from langsmith<0.2.0,>=0.1.112->langchain_community) (1.0.0)\n",
            "Requirement already satisfied: charset-normalizer<4,>=2 in d:\\anaconda\\envs\\langchain\\lib\\site-packages (from requests<3,>=2->langchain_community) (3.4.1)\n",
            "Requirement already satisfied: idna<4,>=2.5 in d:\\anaconda\\envs\\langchain\\lib\\site-packages (from requests<3,>=2->langchain_community) (3.10)\n",
            "Requirement already satisfied: urllib3<3,>=1.21.1 in d:\\anaconda\\envs\\langchain\\lib\\site-packages (from requests<3,>=2->langchain_community) (2.2.3)\n",
            "Requirement already satisfied: certifi>=2017.4.17 in d:\\anaconda\\envs\\langchain\\lib\\site-packages (from requests<3,>=2->langchain_community) (2025.1.31)\n",
            "Requirement already satisfied: greenlet!=0.4.17 in d:\\anaconda\\envs\\langchain\\lib\\site-packages (from SQLAlchemy<3,>=1.4->langchain_community) (3.1.1)\n",
            "Requirement already satisfied: anyio in d:\\anaconda\\envs\\langchain\\lib\\site-packages (from httpx<1,>=0.23.0->langsmith<0.2.0,>=0.1.112->langchain_community) (4.5.2)\n",
            "Requirement already satisfied: httpcore==1.* in d:\\anaconda\\envs\\langchain\\lib\\site-packages (from httpx<1,>=0.23.0->langsmith<0.2.0,>=0.1.112->langchain_community) (1.0.7)\n",
            "Requirement already satisfied: h11<0.15,>=0.13 in d:\\anaconda\\envs\\langchain\\lib\\site-packages (from httpcore==1.*->httpx<1,>=0.23.0->langsmith<0.2.0,>=0.1.112->langchain_community) (0.14.0)\n",
            "Requirement already satisfied: jsonpointer>=1.9 in d:\\anaconda\\envs\\langchain\\lib\\site-packages (from jsonpatch<2.0,>=1.33->langchain-core<0.3.0,>=0.2.43->langchain_community) (3.0.0)\n",
            "Requirement already satisfied: annotated-types>=0.6.0 in d:\\anaconda\\envs\\langchain\\lib\\site-packages (from pydantic<3,>=1->langchain<0.3.0,>=0.2.17->langchain_community) (0.7.0)\n",
            "Requirement already satisfied: pydantic-core==2.27.2 in d:\\anaconda\\envs\\langchain\\lib\\site-packages (from pydantic<3,>=1->langchain<0.3.0,>=0.2.17->langchain_community) (2.27.2)\n",
            "Requirement already satisfied: mypy-extensions>=0.3.0 in d:\\anaconda\\envs\\langchain\\lib\\site-packages (from typing-inspect<1,>=0.4.0->dataclasses-json<0.7,>=0.5.7->langchain_community) (1.0.0)\n",
            "Requirement already satisfied: propcache>=0.2.0 in d:\\anaconda\\envs\\langchain\\lib\\site-packages (from yarl<2.0,>=1.12.0->aiohttp<4.0.0,>=3.8.3->langchain_community) (0.2.0)\n",
            "Requirement already satisfied: sniffio>=1.1 in d:\\anaconda\\envs\\langchain\\lib\\site-packages (from anyio->httpx<1,>=0.23.0->langsmith<0.2.0,>=0.1.112->langchain_community) (1.3.1)\n",
            "Requirement already satisfied: exceptiongroup>=1.0.2 in d:\\anaconda\\envs\\langchain\\lib\\site-packages (from anyio->httpx<1,>=0.23.0->langsmith<0.2.0,>=0.1.112->langchain_community) (1.2.2)\n",
            "Requirement already satisfied: langchain_openai in d:\\anaconda\\envs\\langchain\\lib\\site-packages (0.1.25)\n",
            "Requirement already satisfied: langchain-core<0.3.0,>=0.2.40 in d:\\anaconda\\envs\\langchain\\lib\\site-packages (from langchain_openai) (0.2.43)\n",
            "Requirement already satisfied: openai<2.0.0,>=1.40.0 in d:\\anaconda\\envs\\langchain\\lib\\site-packages (from langchain_openai) (1.65.5)\n",
            "Requirement already satisfied: tiktoken<1,>=0.7 in d:\\anaconda\\envs\\langchain\\lib\\site-packages (from langchain_openai) (0.7.0)\n",
            "Requirement already satisfied: PyYAML>=5.3 in d:\\anaconda\\envs\\langchain\\lib\\site-packages (from langchain-core<0.3.0,>=0.2.40->langchain_openai) (6.0.2)\n",
            "Requirement already satisfied: jsonpatch<2.0,>=1.33 in d:\\anaconda\\envs\\langchain\\lib\\site-packages (from langchain-core<0.3.0,>=0.2.40->langchain_openai) (1.33)\n",
            "Requirement already satisfied: langsmith<0.2.0,>=0.1.112 in d:\\anaconda\\envs\\langchain\\lib\\site-packages (from langchain-core<0.3.0,>=0.2.40->langchain_openai) (0.1.147)\n",
            "Requirement already satisfied: packaging<25,>=23.2 in d:\\anaconda\\envs\\langchain\\lib\\site-packages (from langchain-core<0.3.0,>=0.2.40->langchain_openai) (24.2)\n",
            "Requirement already satisfied: pydantic<3,>=1 in d:\\anaconda\\envs\\langchain\\lib\\site-packages (from langchain-core<0.3.0,>=0.2.40->langchain_openai) (2.10.6)\n",
            "Requirement already satisfied: tenacity!=8.4.0,<9.0.0,>=8.1.0 in d:\\anaconda\\envs\\langchain\\lib\\site-packages (from langchain-core<0.3.0,>=0.2.40->langchain_openai) (8.5.0)\n",
            "Requirement already satisfied: typing-extensions>=4.7 in d:\\anaconda\\envs\\langchain\\lib\\site-packages (from langchain-core<0.3.0,>=0.2.40->langchain_openai) (4.12.2)\n",
            "Requirement already satisfied: anyio<5,>=3.5.0 in d:\\anaconda\\envs\\langchain\\lib\\site-packages (from openai<2.0.0,>=1.40.0->langchain_openai) (4.5.2)\n",
            "Requirement already satisfied: distro<2,>=1.7.0 in d:\\anaconda\\envs\\langchain\\lib\\site-packages (from openai<2.0.0,>=1.40.0->langchain_openai) (1.9.0)\n",
            "Requirement already satisfied: httpx<1,>=0.23.0 in d:\\anaconda\\envs\\langchain\\lib\\site-packages (from openai<2.0.0,>=1.40.0->langchain_openai) (0.28.1)\n",
            "Requirement already satisfied: jiter<1,>=0.4.0 in d:\\anaconda\\envs\\langchain\\lib\\site-packages (from openai<2.0.0,>=1.40.0->langchain_openai) (0.9.0)\n",
            "Requirement already satisfied: sniffio in d:\\anaconda\\envs\\langchain\\lib\\site-packages (from openai<2.0.0,>=1.40.0->langchain_openai) (1.3.1)\n",
            "Requirement already satisfied: tqdm>4 in d:\\anaconda\\envs\\langchain\\lib\\site-packages (from openai<2.0.0,>=1.40.0->langchain_openai) (4.67.1)\n",
            "Requirement already satisfied: regex>=2022.1.18 in d:\\anaconda\\envs\\langchain\\lib\\site-packages (from tiktoken<1,>=0.7->langchain_openai) (2024.11.6)\n",
            "Requirement already satisfied: requests>=2.26.0 in d:\\anaconda\\envs\\langchain\\lib\\site-packages (from tiktoken<1,>=0.7->langchain_openai) (2.32.3)\n",
            "Requirement already satisfied: idna>=2.8 in d:\\anaconda\\envs\\langchain\\lib\\site-packages (from anyio<5,>=3.5.0->openai<2.0.0,>=1.40.0->langchain_openai) (3.10)\n",
            "Requirement already satisfied: exceptiongroup>=1.0.2 in d:\\anaconda\\envs\\langchain\\lib\\site-packages (from anyio<5,>=3.5.0->openai<2.0.0,>=1.40.0->langchain_openai) (1.2.2)\n",
            "Requirement already satisfied: certifi in d:\\anaconda\\envs\\langchain\\lib\\site-packages (from httpx<1,>=0.23.0->openai<2.0.0,>=1.40.0->langchain_openai) (2025.1.31)\n",
            "Requirement already satisfied: httpcore==1.* in d:\\anaconda\\envs\\langchain\\lib\\site-packages (from httpx<1,>=0.23.0->openai<2.0.0,>=1.40.0->langchain_openai) (1.0.7)\n",
            "Requirement already satisfied: h11<0.15,>=0.13 in d:\\anaconda\\envs\\langchain\\lib\\site-packages (from httpcore==1.*->httpx<1,>=0.23.0->openai<2.0.0,>=1.40.0->langchain_openai) (0.14.0)\n",
            "Requirement already satisfied: jsonpointer>=1.9 in d:\\anaconda\\envs\\langchain\\lib\\site-packages (from jsonpatch<2.0,>=1.33->langchain-core<0.3.0,>=0.2.40->langchain_openai) (3.0.0)\n",
            "Requirement already satisfied: orjson<4.0.0,>=3.9.14 in d:\\anaconda\\envs\\langchain\\lib\\site-packages (from langsmith<0.2.0,>=0.1.112->langchain-core<0.3.0,>=0.2.40->langchain_openai) (3.10.15)\n",
            "Requirement already satisfied: requests-toolbelt<2.0.0,>=1.0.0 in d:\\anaconda\\envs\\langchain\\lib\\site-packages (from langsmith<0.2.0,>=0.1.112->langchain-core<0.3.0,>=0.2.40->langchain_openai) (1.0.0)\n",
            "Requirement already satisfied: annotated-types>=0.6.0 in d:\\anaconda\\envs\\langchain\\lib\\site-packages (from pydantic<3,>=1->langchain-core<0.3.0,>=0.2.40->langchain_openai) (0.7.0)\n",
            "Requirement already satisfied: pydantic-core==2.27.2 in d:\\anaconda\\envs\\langchain\\lib\\site-packages (from pydantic<3,>=1->langchain-core<0.3.0,>=0.2.40->langchain_openai) (2.27.2)\n",
            "Requirement already satisfied: charset-normalizer<4,>=2 in d:\\anaconda\\envs\\langchain\\lib\\site-packages (from requests>=2.26.0->tiktoken<1,>=0.7->langchain_openai) (3.4.1)\n",
            "Requirement already satisfied: urllib3<3,>=1.21.1 in d:\\anaconda\\envs\\langchain\\lib\\site-packages (from requests>=2.26.0->tiktoken<1,>=0.7->langchain_openai) (2.2.3)\n",
            "Requirement already satisfied: colorama in d:\\anaconda\\envs\\langchain\\lib\\site-packages (from tqdm>4->openai<2.0.0,>=1.40.0->langchain_openai) (0.4.6)\n"
          ]
        }
      ],
      "source": [
        "!pip install langchain_community\n",
        "!pip install langchain_openai"
      ]
    },
    {
      "cell_type": "markdown",
      "metadata": {
        "id": "dx4W-bWzvPkI"
      },
      "source": [
        "# OpenAI 라이브러리 설정"
      ]
    },
    {
      "cell_type": "code",
      "execution_count": 3,
      "metadata": {
        "colab": {
          "base_uri": "https://localhost:8080/"
        },
        "id": "zjfqB6AOlpTP",
        "outputId": "56310286-e195-4d6f-930f-7d9853a8797b"
      },
      "outputs": [
        {
          "name": "stdout",
          "output_type": "stream",
          "text": [
            "Requirement already satisfied: openai in d:\\anaconda\\envs\\langchain\\lib\\site-packages (1.65.5)\n",
            "Requirement already satisfied: anyio<5,>=3.5.0 in d:\\anaconda\\envs\\langchain\\lib\\site-packages (from openai) (4.5.2)\n",
            "Requirement already satisfied: distro<2,>=1.7.0 in d:\\anaconda\\envs\\langchain\\lib\\site-packages (from openai) (1.9.0)\n",
            "Requirement already satisfied: httpx<1,>=0.23.0 in d:\\anaconda\\envs\\langchain\\lib\\site-packages (from openai) (0.28.1)\n",
            "Requirement already satisfied: jiter<1,>=0.4.0 in d:\\anaconda\\envs\\langchain\\lib\\site-packages (from openai) (0.9.0)\n",
            "Requirement already satisfied: pydantic<3,>=1.9.0 in d:\\anaconda\\envs\\langchain\\lib\\site-packages (from openai) (2.10.6)\n",
            "Requirement already satisfied: sniffio in d:\\anaconda\\envs\\langchain\\lib\\site-packages (from openai) (1.3.1)\n",
            "Requirement already satisfied: tqdm>4 in d:\\anaconda\\envs\\langchain\\lib\\site-packages (from openai) (4.67.1)\n",
            "Requirement already satisfied: typing-extensions<5,>=4.11 in d:\\anaconda\\envs\\langchain\\lib\\site-packages (from openai) (4.12.2)\n",
            "Requirement already satisfied: idna>=2.8 in d:\\anaconda\\envs\\langchain\\lib\\site-packages (from anyio<5,>=3.5.0->openai) (3.10)\n",
            "Requirement already satisfied: exceptiongroup>=1.0.2 in d:\\anaconda\\envs\\langchain\\lib\\site-packages (from anyio<5,>=3.5.0->openai) (1.2.2)\n",
            "Requirement already satisfied: certifi in d:\\anaconda\\envs\\langchain\\lib\\site-packages (from httpx<1,>=0.23.0->openai) (2025.1.31)\n",
            "Requirement already satisfied: httpcore==1.* in d:\\anaconda\\envs\\langchain\\lib\\site-packages (from httpx<1,>=0.23.0->openai) (1.0.7)\n",
            "Requirement already satisfied: h11<0.15,>=0.13 in d:\\anaconda\\envs\\langchain\\lib\\site-packages (from httpcore==1.*->httpx<1,>=0.23.0->openai) (0.14.0)\n",
            "Requirement already satisfied: annotated-types>=0.6.0 in d:\\anaconda\\envs\\langchain\\lib\\site-packages (from pydantic<3,>=1.9.0->openai) (0.7.0)\n",
            "Requirement already satisfied: pydantic-core==2.27.2 in d:\\anaconda\\envs\\langchain\\lib\\site-packages (from pydantic<3,>=1.9.0->openai) (2.27.2)\n",
            "Requirement already satisfied: colorama in d:\\anaconda\\envs\\langchain\\lib\\site-packages (from tqdm>4->openai) (0.4.6)\n"
          ]
        }
      ],
      "source": [
        "!pip install openai"
      ]
    },
    {
      "cell_type": "code",
      "execution_count": 4,
      "metadata": {},
      "outputs": [
        {
          "name": "stdout",
          "output_type": "stream",
          "text": [
            "Requirement already satisfied: python-dotenv in d:\\anaconda\\envs\\langchain\\lib\\site-packages (1.0.1)\n"
          ]
        }
      ],
      "source": [
        "!pip install python-dotenv"
      ]
    },
    {
      "cell_type": "markdown",
      "metadata": {
        "id": "q1HZ2vKQwXpe"
      },
      "source": [
        "# OpenAI API를 이용한 LLM 설정"
      ]
    },
    {
      "cell_type": "markdown",
      "metadata": {
        "id": "Kgq5lemrH8DJ"
      },
      "source": [
        "\n",
        "\n",
        "*   **LLMs** : string을 input으로 받아서 string을 return하는 모듈\n",
        "*   **ChatModels** : message 리스트를 받아서 message 리스트를 return하는 모듈\n",
        "\n"
      ]
    },
    {
      "cell_type": "code",
      "execution_count": 5,
      "metadata": {},
      "outputs": [
        {
          "data": {
            "text/plain": [
              "True"
            ]
          },
          "execution_count": 5,
          "metadata": {},
          "output_type": "execute_result"
        }
      ],
      "source": [
        "from dotenv import load_dotenv\n",
        "import os\n",
        "\n",
        "load_dotenv('./.env')"
      ]
    },
    {
      "cell_type": "code",
      "execution_count": 6,
      "metadata": {
        "id": "g549Xb36KIam"
      },
      "outputs": [],
      "source": [
        "OPENAI_KEY = os.getenv('OPENAI_API_KEY')\n",
        "# OPENAI_KEY"
      ]
    },
    {
      "cell_type": "code",
      "execution_count": 7,
      "metadata": {
        "id": "kGRgpmDWFTDE"
      },
      "outputs": [],
      "source": [
        "from langchain_openai import OpenAI\n",
        "\n",
        "llm = OpenAI(openai_api_key=OPENAI_KEY) # 기본모델 : text-davinci-003"
      ]
    },
    {
      "cell_type": "code",
      "execution_count": 8,
      "metadata": {
        "colab": {
          "base_uri": "https://localhost:8080/",
          "height": 35
        },
        "id": "beS2jIDJKGp4",
        "outputId": "854a4e3c-6470-4318-f507-1d330307c6eb"
      },
      "outputs": [
        {
          "name": "stderr",
          "output_type": "stream",
          "text": [
            "C:\\Users\\xorud\\AppData\\Local\\Temp\\ipykernel_14904\\436674785.py:1: LangChainDeprecationWarning: The method `BaseLLM.predict` was deprecated in langchain-core 0.1.7 and will be removed in 1.0. Use invoke instead.\n",
            "  llm.predict(\"안녕!\")\n"
          ]
        },
        {
          "data": {
            "text/plain": [
              "' 나는 조금 졸린데, 너무 피곤해.\\n\\n안녕! 나도 조금 피곤해. 같이 좀 쉬면서 이야기할까?'"
            ]
          },
          "execution_count": 8,
          "metadata": {},
          "output_type": "execute_result"
        }
      ],
      "source": [
        "llm.predict(\"안녕!\")"
      ]
    },
    {
      "cell_type": "code",
      "execution_count": 9,
      "metadata": {
        "id": "4Tr-sZ5jFK4m"
      },
      "outputs": [
        {
          "name": "stderr",
          "output_type": "stream",
          "text": [
            "C:\\Users\\xorud\\AppData\\Local\\Temp\\ipykernel_14904\\3703619864.py:3: LangChainDeprecationWarning: The class `ChatOpenAI` was deprecated in LangChain 0.0.10 and will be removed in 1.0. An updated version of the class exists in the langchain-openai package and should be used instead. To use it run `pip install -U langchain-openai` and import as `from langchain_openai import ChatOpenAI`.\n",
            "  chat_model = ChatOpenAI(openai_api_key=OPENAI_KEY)  # 기본모델 : gpt-3.5-turbo\n"
          ]
        }
      ],
      "source": [
        "from langchain.chat_models import ChatOpenAI\n",
        "\n",
        "chat_model = ChatOpenAI(openai_api_key=OPENAI_KEY)  # 기본모델 : gpt-3.5-turbo"
      ]
    },
    {
      "cell_type": "code",
      "execution_count": 10,
      "metadata": {
        "colab": {
          "base_uri": "https://localhost:8080/",
          "height": 35
        },
        "id": "hawCgY1jKrbG",
        "outputId": "c61edd8a-e1e7-4ab9-d1ca-b9ab422a7246"
      },
      "outputs": [
        {
          "name": "stderr",
          "output_type": "stream",
          "text": [
            "C:\\Users\\xorud\\AppData\\Local\\Temp\\ipykernel_14904\\493799527.py:1: LangChainDeprecationWarning: The method `BaseChatModel.predict` was deprecated in langchain-core 0.1.7 and will be removed in 1.0. Use invoke instead.\n",
            "  chat_model.predict(\"안녕!\")\n"
          ]
        },
        {
          "data": {
            "text/plain": [
              "'안녕하세요! 무엇을 도와드릴까요?'"
            ]
          },
          "execution_count": 10,
          "metadata": {},
          "output_type": "execute_result"
        }
      ],
      "source": [
        "chat_model.predict(\"안녕!\")"
      ]
    },
    {
      "cell_type": "markdown",
      "metadata": {
        "id": "5VLbKTWiKpkx"
      },
      "source": [
        "*   **predict** : string을 input으로 받아서 string을 return\n",
        "*   **predict_messages** : message 리스트를 받아서 message 리스트를 return"
      ]
    },
    {
      "cell_type": "code",
      "execution_count": 12,
      "metadata": {
        "colab": {
          "base_uri": "https://localhost:8080/",
          "height": 53
        },
        "id": "YzawI2dMKyEd",
        "outputId": "e1a824ee-fb16-497a-9f5b-0657dbf83150"
      },
      "outputs": [
        {
          "data": {
            "text/plain": [
              "'\\n1. 레인보우 소켓 (Rainbow Sock)\\n2. 컬러풀 피트 (Colorful Feet)\\n3. 브라이트 소켓 (Bright Sock)\\n4. 레인보우 피트 (Rainbow Feet)\\n5. 해피 소켓 (Happy Sock)\\n6. 컬러풀 스타일 (Colorful Style)\\n7. 브라이트 스텝 (Bright Step)\\n8. 레인보우 스타일 (Rainbow Style)\\n9. 색감 양말 (Chroma Sock)\\n10. 미니멀 컬러 (Minimal Color)'"
            ]
          },
          "execution_count": 12,
          "metadata": {},
          "output_type": "execute_result"
        }
      ],
      "source": [
        "text = \"컬러풀 양말을 만드는 회사의 좋은 이름은 무엇일까요?\"\n",
        "\n",
        "llm.predict(text)"
      ]
    },
    {
      "cell_type": "code",
      "execution_count": null,
      "metadata": {
        "colab": {
          "base_uri": "https://localhost:8080/",
          "height": 53
        },
        "id": "CHNsrxBJFKtk",
        "outputId": "d07b172f-de1a-44a8-cf8c-941a55279043"
      },
      "outputs": [
        {
          "data": {
            "text/plain": [
              "'- 레인보우 삭스\\n- 팝콘 삭스\\n- 빛나는 발가락\\n- 피카소 삭스\\n- 레인보우 토시'"
            ]
          },
          "execution_count": 24,
          "metadata": {},
          "output_type": "execute_result"
        }
      ],
      "source": [
        "chat_model.predict(text)"
      ]
    },
    {
      "cell_type": "markdown",
      "metadata": {
        "id": "l7XIKFwt1L87"
      },
      "source": [
        "*   **HumanMessage** : 사람으로부터 주어진 message\n",
        "*   **AIMessage** : AI/assistant로부터 주어진 message\n",
        "*   **SystemMessage** : system으로부터 주어진 message\n",
        "*   **FunctionMessage** : function call로부터 주어진 message"
      ]
    },
    {
      "cell_type": "code",
      "execution_count": null,
      "metadata": {
        "colab": {
          "base_uri": "https://localhost:8080/"
        },
        "id": "nIAmVduqLOrM",
        "outputId": "44e3b66d-3300-43c7-b37e-b9529aa85dd4"
      },
      "outputs": [
        {
          "data": {
            "text/plain": [
              "AIMessage(content='\\nColorful Socks Co. 또는 Rainbow Sock Co.')"
            ]
          },
          "execution_count": 26,
          "metadata": {},
          "output_type": "execute_result"
        }
      ],
      "source": [
        "from langchain.schema import HumanMessage\n",
        "\n",
        "text = \"컬러풀 양말을 만드는 회사의 좋은 이름은 무엇일까요?\"\n",
        "messages = [HumanMessage(content=text)]\n",
        "\n",
        "llm.predict_messages(messages)"
      ]
    },
    {
      "cell_type": "code",
      "execution_count": null,
      "metadata": {
        "colab": {
          "base_uri": "https://localhost:8080/"
        },
        "id": "PDScfOIpLOop",
        "outputId": "38379b86-eb66-4d18-be44-9f17c7f6456f"
      },
      "outputs": [
        {
          "name": "stderr",
          "output_type": "stream",
          "text": [
            "C:\\Users\\xorud\\AppData\\Local\\Temp\\ipykernel_14684\\1198637096.py:1: LangChainDeprecationWarning: The method `BaseChatModel.predict_messages` was deprecated in langchain-core 0.1.7 and will be removed in 1.0. Use invoke instead.\n",
            "  chat_model.predict_messages(messages)\n"
          ]
        },
        {
          "data": {
            "text/plain": [
              "AIMessage(content='- 레인보우 삭스\\n- 레인보우 피트웨어\\n- 컬러브라이트 삭스\\n- 비비드 삭스\\n- 레인보우 토시즈\\n- 컬러풀 스텝스\\n- 브라이트 피트웨어\\n- 해피 삭스\\n- 레인보우 풋웨어\\n- 브라이트 스텝스', response_metadata={'token_usage': {'completion_tokens': 125, 'prompt_tokens': 39, 'total_tokens': 164, 'completion_tokens_details': {'accepted_prediction_tokens': 0, 'audio_tokens': 0, 'reasoning_tokens': 0, 'rejected_prediction_tokens': 0}, 'prompt_tokens_details': {'audio_tokens': 0, 'cached_tokens': 0}}, 'model_name': 'gpt-3.5-turbo', 'system_fingerprint': None, 'finish_reason': 'stop', 'logprobs': None}, id='run-362b58ff-4846-4f7f-b844-4a982de330cb-0')"
            ]
          },
          "execution_count": 27,
          "metadata": {},
          "output_type": "execute_result"
        }
      ],
      "source": [
        "chat_model.predict_messages(messages)"
      ]
    },
    {
      "cell_type": "markdown",
      "metadata": {
        "id": "WZWFopKsNzf5"
      },
      "source": [
        "# 프롬프트 템플릿(Prompt templates)"
      ]
    },
    {
      "cell_type": "code",
      "execution_count": null,
      "metadata": {
        "colab": {
          "base_uri": "https://localhost:8080/",
          "height": 35
        },
        "id": "dcbYs4ZQMJeX",
        "outputId": "20baedba-3c53-4592-b99b-eac7c1cea4d4"
      },
      "outputs": [
        {
          "data": {
            "text/plain": [
              "'컬러풀 양말을 만드는 회사의 좋은 이름은 무엇일까요?'"
            ]
          },
          "execution_count": 31,
          "metadata": {},
          "output_type": "execute_result"
        }
      ],
      "source": [
        "from langchain.prompts import PromptTemplate\n",
        "\n",
        "prompt = PromptTemplate.from_template(\"{product}을 만드는 회사의 좋은 이름은 무엇일까요?\")\n",
        "prompt.format(product=\"컬러풀 양말\")"
      ]
    },
    {
      "cell_type": "code",
      "execution_count": null,
      "metadata": {
        "colab": {
          "base_uri": "https://localhost:8080/"
        },
        "id": "VNBfxIfIMJbq",
        "outputId": "1c027c43-d5eb-4551-a3e9-41983f2be3d9"
      },
      "outputs": [
        {
          "data": {
            "text/plain": [
              "[SystemMessage(content='당신은 도움이 되는 조수입니다 English을 Korean로 번역하세요.'),\n",
              " HumanMessage(content='I love programming.')]"
            ]
          },
          "execution_count": 32,
          "metadata": {},
          "output_type": "execute_result"
        }
      ],
      "source": [
        "from langchain.prompts.chat import ChatPromptTemplate\n",
        "\n",
        "template = \"당신은 도움이 되는 조수입니다 {input_language}을 {output_language}로 번역하세요.\"\n",
        "human_template = \"{text}\"\n",
        "\n",
        "chat_prompt = ChatPromptTemplate.from_messages([\n",
        "    (\"system\", template),\n",
        "    (\"human\", human_template),\n",
        "])\n",
        "\n",
        "chat_prompt.format_messages(input_language=\"English\", output_language=\"Korean\", text=\"I love programming.\")"
      ]
    },
    {
      "cell_type": "markdown",
      "metadata": {
        "id": "0b3Fb-Ck9XX6"
      },
      "source": [
        "# Output parsers\n",
        "\n",
        "- LLM에서 responses로 넘겨주는 텍스트를 우리가 원하는 형태로 파싱하도록 도와주는 모듈"
      ]
    },
    {
      "cell_type": "code",
      "execution_count": null,
      "metadata": {
        "colab": {
          "base_uri": "https://localhost:8080/"
        },
        "id": "dB8vkdF3LOmP",
        "outputId": "2fbdb2ad-a4db-4fcc-be58-0c1ebd020c75"
      },
      "outputs": [
        {
          "data": {
            "text/plain": [
              "['hi', 'bye']"
            ]
          },
          "execution_count": 33,
          "metadata": {},
          "output_type": "execute_result"
        }
      ],
      "source": [
        "from langchain.schema import BaseOutputParser\n",
        "\n",
        "class CommaSeparatedListOutputParser(BaseOutputParser): # 콤마 기준으로 텍스트를 나누어 저장하기 위해 생성\n",
        "    \"\"\"Parse the output of an LLM call to a comma-separated list.\"\"\"\n",
        "\n",
        "\n",
        "    def parse(self, text: str):\n",
        "        \"\"\"Parse the output of an LLM call.\"\"\"\n",
        "        return text.strip().split(\", \")\n",
        "\n",
        "CommaSeparatedListOutputParser().parse(\"hi, bye\")"
      ]
    },
    {
      "cell_type": "markdown",
      "metadata": {
        "id": "_rmbFN3A9oPZ"
      },
      "source": [
        "# PromptTemplate + LLM + OutputParser"
      ]
    },
    {
      "cell_type": "code",
      "execution_count": null,
      "metadata": {
        "colab": {
          "base_uri": "https://localhost:8080/"
        },
        "id": "rrkkgUmjMU0X",
        "outputId": "f3c9549b-b4ce-4be1-917b-742defbbed29"
      },
      "outputs": [
        {
          "data": {
            "text/plain": [
              "['CPU', 'RAM', '그래픽 카드', '메인보드', 'SSD']"
            ]
          },
          "execution_count": 39,
          "metadata": {},
          "output_type": "execute_result"
        }
      ],
      "source": [
        "template = \"\"\"당신은 쉼표로 구분된 목록을 생성하는 유용한 조수입니다. \\\n",
        "사용자가 카테고리를 전달하면 해당 카테고리에 속하는 5개의 객체를 쉼표로 구분된 목록으로 생성합니다. \\\n",
        "오직 쉼표로 구분된 목록만 반환하고 그 이상은 반환하지 마세요.\"\"\"\n",
        "human_template = \"{text}\"\n",
        "\n",
        "chat_prompt = ChatPromptTemplate.from_messages([\n",
        "    (\"system\", template),\n",
        "    (\"human\", human_template),\n",
        "])\n",
        "\n",
        "chain = chat_prompt | chat_model | CommaSeparatedListOutputParser()  # or 기호로 묶어서 한번에 실행할 수 있어서 랭체인으로 불리는 것이다. 앞의 객체의 출력이 뒤릐 객체의 입력으로 사용되는 방식\n",
        "# 프롬프트 생성 -> LLM에 전달해서 답변 생성 -> 아웃풋파서로 콤마 기준으로 나누어서 리스트에 저장 \n",
        "\n",
        "chain.invoke({\"text\": \"컴퓨터 부품\"})"
      ]
    },
    {
      "cell_type": "code",
      "execution_count": null,
      "metadata": {
        "id": "jdp16u_IMUyL"
      },
      "outputs": [],
      "source": []
    },
    {
      "cell_type": "code",
      "execution_count": null,
      "metadata": {
        "id": "nUpW40-rMUv7"
      },
      "outputs": [],
      "source": []
    },
    {
      "cell_type": "code",
      "execution_count": null,
      "metadata": {
        "id": "lX4oO3ccMUtn"
      },
      "outputs": [],
      "source": []
    }
  ],
  "metadata": {
    "colab": {
      "include_colab_link": true,
      "provenance": []
    },
    "kernelspec": {
      "display_name": "langchain",
      "language": "python",
      "name": "python3"
    },
    "language_info": {
      "codemirror_mode": {
        "name": "ipython",
        "version": 3
      },
      "file_extension": ".py",
      "mimetype": "text/x-python",
      "name": "python",
      "nbconvert_exporter": "python",
      "pygments_lexer": "ipython3",
      "version": "3.8.20"
    }
  },
  "nbformat": 4,
  "nbformat_minor": 0
}
